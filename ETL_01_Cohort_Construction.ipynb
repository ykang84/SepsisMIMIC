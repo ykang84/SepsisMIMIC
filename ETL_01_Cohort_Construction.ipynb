{
 "cells": [
  {
   "cell_type": "markdown",
   "metadata": {},
   "source": [
    "## ETL: Cohort Construction"
   ]
  },
  {
   "cell_type": "markdown",
   "metadata": {},
   "source": [
    "### ATTENTION\n",
    "\n",
    "#### The 1st cell need to have connection to mimic postgres database to run. Put your own connection information in \"psycopg2.connect\" part"
   ]
  },
  {
   "cell_type": "code",
   "execution_count": null,
   "metadata": {},
   "outputs": [],
   "source": [
    "import psycopg2\n",
    "import pandas as pd\n",
    "import os\n",
    "\n",
    "# connect to database\n",
    "conn = psycopg2.connect(\"dbname='mimic' user='postgres' host='40.76.205.12' password='Jbz19860501~'\")\n",
    "\n",
    "# get necessary tables\n",
    "\n",
    "# patients with all antibiotic prescriptions\n",
    "prescr_ab_only_query = r\"\"\"  select pr.hadm_id as HADM_ID\n",
    "  , pr.drug as antibiotic_name\n",
    "  , pr.startdate as antibiotic_time\n",
    "  , pr.enddate as antibiotic_endtime\n",
    "  from mimiciii.prescriptions pr\n",
    "  -- inner join to subselect to only antibiotic prescriptions\n",
    "  inner join mimiciii.abx_poe_list ab\n",
    "      on pr.drug = ab.drug\"\"\"\n",
    "prescr_ab_only_df = pd.read_sql_query(prescr_ab_only_query, conn)\n",
    "\n",
    "# microbiologyevents initial\n",
    "micro_events_query = r\"\"\"select hadm_id as HADM_ID\n",
    "    , chartdate, charttime\n",
    "    , spec_type_desc\n",
    "    , max(case when org_name is not null and org_name != '' then 1 else 0 end) as PositiveCulture\n",
    "  from mimiciii.microbiologyevents\n",
    "  group by hadm_id, chartdate, charttime, spec_type_desc\"\"\"\n",
    "micro_events_df = pd.read_sql_query(micro_events_query, conn)\n",
    "\n",
    "\n",
    "conn.close()"
   ]
  },
  {
   "cell_type": "code",
   "execution_count": 2,
   "metadata": {},
   "outputs": [],
   "source": [
    "path_folder = r\"/mnt/host/home/jbzhang/mimic\"\n",
    "\n",
    "# Patients\n",
    "patients_df = pd.read_csv(os.path.join(path_folder, 'PATIENTS.csv'))\n",
    "patients_df['DOD_COALESCE'] = patients_df[['DOD', 'DOD_HOSP', 'DOD_SSN']].bfill(axis=1).iloc[:,0]\n",
    "patients_df = patients_df[['SUBJECT_ID', 'GENDER', 'DOB', 'DOD_COALESCE', 'EXPIRE_FLAG']]\n",
    "\n",
    "# ICUSTAYS\n",
    "icustays_df = pd.read_csv(os.path.join(path_folder, 'ICUSTAYS.csv')).drop(['ROW_ID'], axis=1)\n",
    "icustays_df = icustays_df[(icustays_df['INTIME'].notnull()) & (icustays_df['OUTTIME'].notnull())] # exclude bad data\n",
    "\n",
    "# Admissions Info\n",
    "admissions_df = pd.read_csv(os.path.join(path_folder, 'ADMISSIONS.csv'))[['SUBJECT_ID', 'HADM_ID', 'ADMITTIME', \n",
    "                                                                          'DISCHTIME', 'DEATHTIME', 'DIAGNOSIS', \n",
    "                                                                          'HAS_CHARTEVENTS_DATA']]\n",
    "admissions_df = admissions_df[admissions_df['HAS_CHARTEVENTS_DATA']==1] # exclude no chartevents situation\n",
    "\n",
    "# Services Info, determining the type of service in hospital\n",
    "services_df = pd.read_csv(os.path.join(path_folder, 'SERVICES.csv'))[['SUBJECT_ID', 'HADM_ID', 'CURR_SERVICE']]"
   ]
  },
  {
   "cell_type": "code",
   "execution_count": 3,
   "metadata": {},
   "outputs": [],
   "source": [
    "cohort_df = pd.merge(pd.merge(pd.merge(admissions_df, patients_df, how='inner', on='SUBJECT_ID'), \n",
    "                             icustays_df, how='inner', on=['HADM_ID','SUBJECT_ID']), \n",
    "                     services_df, how='inner', on=['HADM_ID','SUBJECT_ID'])"
   ]
  },
  {
   "cell_type": "code",
   "execution_count": 4,
   "metadata": {},
   "outputs": [
    {
     "data": {
      "text/plain": [
       "(61021, 1)"
      ]
     },
     "execution_count": 4,
     "metadata": {},
     "output_type": "execute_result"
    }
   ],
   "source": [
    "cohort_df[['ICUSTAY_ID']].drop_duplicates().shape"
   ]
  },
  {
   "cell_type": "markdown",
   "metadata": {},
   "source": [
    "STEP 1 Add indicator for data source. Using only metavision data"
   ]
  },
  {
   "cell_type": "code",
   "execution_count": 5,
   "metadata": {},
   "outputs": [
    {
     "name": "stdout",
     "output_type": "stream",
     "text": [
      "Just removed 37902 Carevue ICU stays.\n"
     ]
    }
   ],
   "source": [
    "icustays_df['indicator_dbsource'] = icustays_df['DBSOURCE'].apply(lambda x: 1 if x=='metavision' else 0)\n",
    "beforeRows = len(icustays_df['indicator_dbsource'])\n",
    "icustays_df = icustays_df.loc[icustays_df['indicator_dbsource'] == 1]\n",
    "afterRows = len(icustays_df['indicator_dbsource'])\n",
    "print(\"Just removed \" + str(beforeRows - afterRows) + \" Carevue ICU stays.\")"
   ]
  },
  {
   "cell_type": "markdown",
   "metadata": {},
   "source": [
    "Step 2: Add indicator for adults, using criterion age between 16 and 100"
   ]
  },
  {
   "cell_type": "code",
   "execution_count": 6,
   "metadata": {},
   "outputs": [
    {
     "name": "stdout",
     "output_type": "stream",
     "text": [
      "['SUBJECT_ID' 'GENDER' 'DOB' 'DOD_COALESCE' 'EXPIRE_FLAG' 'HADM_ID'\n",
      " 'ADMITTIME' 'DISCHTIME' 'DEATHTIME' 'DIAGNOSIS' 'HAS_CHARTEVENTS_DATA']\n",
      "['SUBJECT_ID' 'GENDER' 'DOB' 'DOD_COALESCE' 'EXPIRE_FLAG']\n",
      "['SUBJECT_ID' 'GENDER' 'DOB' 'DOD_COALESCE' 'EXPIRE_FLAG' 'HADM_ID'\n",
      " 'ADMITTIME' 'DISCHTIME' 'DEATHTIME' 'DIAGNOSIS' 'HAS_CHARTEVENTS_DATA'\n",
      " 'age']\n",
      "89.0\n",
      "16.0\n",
      "Just removed 9861 patients who were older than 89 or younger than 16, 36587 patients left in the dataset.\n"
     ]
    }
   ],
   "source": [
    "\n",
    "date_format = '%Y-%m-%d %H:%M:%S'\n",
    "patient_age_df = patients_df.merge(admissions_df, how = \"inner\", on = \"SUBJECT_ID\")\n",
    "print(patient_age_df.columns.values)\n",
    "patient_age_df[\"age\"] = (pd.to_datetime(patient_age_df['ADMITTIME'], format=date_format) \n",
    "                                  - pd.to_datetime(patient_age_df['DOB'], format=date_format)).astype('timedelta64[Y]')\n",
    "patient_age_df['age'] = (abs(pd.to_datetime(patient_age_df['ADMITTIME'], format=date_format) \n",
    "                                  - pd.to_datetime(patient_age_df['DOB'], format=date_format))).astype('timedelta64[Y]')\n",
    "beforePatients = patient_age_df[\"SUBJECT_ID\"].nunique()\n",
    "\n",
    "patient_age_df = patient_age_df[patient_age_df[\"age\"] >= 16]\n",
    "patient_age_df = patient_age_df[patient_age_df[\"age\"] <= 100]\n",
    "afterPatients = patient_age_df[\"SUBJECT_ID\"].nunique()\n",
    "print(patients_df.columns.values)\n",
    "print(patient_age_df.columns.values)\n",
    "patients_df = patient_age_df[[\"SUBJECT_ID\", \"GENDER\", \"EXPIRE_FLAG\", \"HADM_ID\", \"ADMITTIME\", \"DISCHTIME\", \"DEATHTIME\", \"DIAGNOSIS\", \"age\"]]\n",
    "patients_df = patients_df.drop_duplicates()\n",
    "print(max(patients_df[\"age\"]))\n",
    "print(min(patients_df[\"age\"]))\n",
    "\n",
    "print(\"Just removed \" + str(beforePatients - afterPatients) + \" patients who were older than 89 or younger than 16, \" + str(afterPatients) + \" patients left in the dataset.\")"
   ]
  },
  {
   "cell_type": "markdown",
   "metadata": {},
   "source": [
    "Step 3: Add indicator for number of ICU staye per hospital admissions. Do not count readmission for sepsis analysis"
   ]
  },
  {
   "cell_type": "code",
   "execution_count": 7,
   "metadata": {},
   "outputs": [
    {
     "name": "stdout",
     "output_type": "stream",
     "text": [
      "After removing 2952 ICU stays, there are now 20668 stays left.\n"
     ]
    }
   ],
   "source": [
    "# Add indicator for multiple ICU_stays per HADM\n",
    "beforeStays = icustays_df[\"ICUSTAY_ID\"].nunique()\n",
    "counts_icustays_df = icustays_df.groupby(['SUBJECT_ID', 'HADM_ID'])['ICUSTAY_ID'].count().reset_index(drop=False)\n",
    "counts_icustays_df = counts_icustays_df[counts_icustays_df[\"ICUSTAY_ID\"] == 1]\n",
    "icustays_df = pd.merge(icustays_df, counts_icustays_df.drop(['ICUSTAY_ID'], axis=1), how='inner', on=['SUBJECT_ID', 'HADM_ID'])\n",
    "afterStays = icustays_df[\"ICUSTAY_ID\"].nunique()\n",
    "\n",
    "print(\"After removing \" + str(beforeStays - afterStays) + \" ICU stays, there are now \" + str(afterStays) + \" stays left.\")"
   ]
  },
  {
   "cell_type": "markdown",
   "metadata": {},
   "source": [
    "Step 4: Filter out certain service types."
   ]
  },
  {
   "cell_type": "code",
   "execution_count": 8,
   "metadata": {},
   "outputs": [
    {
     "name": "stdout",
     "output_type": "stream",
     "text": [
      "['SUBJECT_ID' 'HADM_ID' 'CURR_SERVICE' 'indicator_service']\n",
      "After filtering out 10704 services, there are now 62639 left.\n"
     ]
    }
   ],
   "source": [
    "services_df['indicator_service'] = services_df['CURR_SERVICE'].apply(lambda x: \n",
    "                                                                 0 if x in set(['CSURG','VSURG','TSURG']) \n",
    "                                                                 else 1)\n",
    "beforeServices = len(services_df[\"HADM_ID\"])\n",
    "services_df = services_df[services_df[\"indicator_service\"] == 1]\n",
    "afterServices = len(services_df[\"HADM_ID\"])\n",
    "print(services_df.columns.values)\n",
    "print(\"After filtering out \" + str(beforeServices - afterServices) + \" services, there are now \" + str(afterServices) + \" left.\")"
   ]
  },
  {
   "cell_type": "markdown",
   "metadata": {},
   "source": [
    " Step 5: Join the dataframes."
   ]
  },
  {
   "cell_type": "code",
   "execution_count": 9,
   "metadata": {},
   "outputs": [
    {
     "name": "stdout",
     "output_type": "stream",
     "text": [
      "['SUBJECT_ID' 'GENDER' 'EXPIRE_FLAG' 'HADM_ID' 'ADMITTIME' 'DISCHTIME'\n",
      " 'DEATHTIME' 'DIAGNOSIS' 'age' 'ICUSTAY_ID' 'DBSOURCE' 'FIRST_CAREUNIT'\n",
      " 'LAST_CAREUNIT' 'FIRST_WARDID' 'LAST_WARDID' 'INTIME' 'OUTTIME' 'LOS'\n",
      " 'indicator_dbsource' 'CURR_SERVICE' 'indicator_service']\n",
      "There are 13818 patients left after merging.\n"
     ]
    }
   ],
   "source": [
    "\n",
    "# Join Patients, Admissions, ICU information together to build an initial cohort that contains all patients\n",
    "cohort_df = patients_df.merge(icustays_df, how = \"inner\", on = [\"HADM_ID\", \"SUBJECT_ID\"])\n",
    "cohort_df = cohort_df.merge(services_df, how = \"inner\", on = ['HADM_ID','SUBJECT_ID'])\n",
    "print(cohort_df.columns.values)\n",
    "cohort_df = cohort_df.drop([\"LAST_CAREUNIT\"], axis = 1)\n",
    "cohort_df = cohort_df.drop([\"FIRST_WARDID\"], axis = 1)\n",
    "cohort_df = cohort_df.drop([\"LAST_WARDID\"], axis = 1)\n",
    "cohort_df = cohort_df.drop([\"DBSOURCE\"], axis = 1)\n",
    "cohort_df = cohort_df.drop([\"CURR_SERVICE\"], axis = 1)\n",
    "cohort_df = cohort_df.drop([\"EXPIRE_FLAG\"], axis = 1)\n",
    "\n",
    "print(\"There are \" + str(cohort_df[\"SUBJECT_ID\"].nunique()) + \" patients left after merging.\")"
   ]
  },
  {
   "cell_type": "markdown",
   "metadata": {},
   "source": [
    "## Step 6: Suspicion\n",
    "\n",
    "This step is used the idea in the following sql from The Github:\n",
    "1. cohort.sql\n",
    "2. suspicion-of-infection.sql\n",
    "3. abx-micro-prescription.sql"
   ]
  },
  {
   "cell_type": "markdown",
   "metadata": {},
   "source": [
    "### Step 6.1: Add indicator for suspection"
   ]
  },
  {
   "cell_type": "code",
   "execution_count": null,
   "metadata": {},
   "outputs": [],
   "source": [
    "# Join tables together to prepare suspection analysis\n",
    "\n",
    "int_cohort_df = pd.merge(pd.merge(cohort_df, prescr_ab_only_df, how='left', left_on=['HADM_ID'], right_on=['hadm_id'])\\\n",
    "                    .drop(['hadm_id'], axis=1), micro_events_df, how='left', left_on=['HADM_ID'], right_on=['hadm_id'])\\\n",
    "                    .drop(['hadm_id'], axis=1)"
   ]
  },
  {
   "cell_type": "code",
   "execution_count": null,
   "metadata": {},
   "outputs": [],
   "source": [
    "# Remove null values\n",
    "int_cohort_df = int_cohort_df[(int_cohort_df['antibiotic_time'].notnull()) | (int_cohort_df['charttime'].notnull())]"
   ]
  },
  {
   "cell_type": "code",
   "execution_count": null,
   "metadata": {},
   "outputs": [],
   "source": [
    "# Add indicators for early and late suspection\n",
    "\n",
    "int_cohort_df['indicator_early_suspection'] = int_cohort_df[['antibiotic_time','charttime']].apply(lambda x: \n",
    "                                                                  0 if (x['antibiotic_time']<=x['charttime']) \n",
    "                                                                  & (x['antibiotic_time']>x['charttime']-pd.Timedelta(24,unit='h')) \n",
    "                                                                  else 1, axis=1)\n",
    "int_cohort_df['indicator_late_suspection'] = int_cohort_df[['antibiotic_time','charttime']].apply(lambda x: \n",
    "                                                                  0 if (x['antibiotic_time']<=x['charttime']+pd.Timedelta(72,unit='h')) \n",
    "                                                                  & (x['antibiotic_time']>x['charttime']) \n",
    "                                                                  else 1, axis=1)"
   ]
  },
  {
   "cell_type": "code",
   "execution_count": null,
   "metadata": {},
   "outputs": [],
   "source": [
    "print('Count the patients before and after selection.')\n",
    "\n",
    "print('')\n",
    "\n",
    "print('Total patients before selection: {:5d}.'.format(cohort_df['SUBJECT_ID'].unique().shape[0]))\n",
    "print('Total patients after all selection: {:4d}.'\\\n",
    "      .format(int_cohort_df[int_cohort_df.filter(regex=(\"indicator.*\")).all(axis=1)]['SUBJECT_ID'].unique().shape[0]))\n",
    "\n",
    "print('')\n",
    "\n",
    "print('Total hospital admission before selection: {:5d}.'.format(cohort_df['HADM_ID'].unique().shape[0]))\n",
    "print('Total hospital admission after all selection: {:4d}.'\\\n",
    "      .format(int_cohort_df[int_cohort_df.filter(regex=(\"indicator.*\")).all(axis=1)]['HADM_ID'].unique().shape[0]))"
   ]
  },
  {
   "cell_type": "code",
   "execution_count": null,
   "metadata": {},
   "outputs": [],
   "source": [
    "final_cohort_df = int_cohort_df[int_cohort_df.filter(regex=(\"indicator.*\")).all(axis=1)].reset_index(drop=True)\\\n",
    ".drop(['antibiotic_name', 'antibiotic_time', 'antibiotic_endtime', \n",
    "       'chartdate', 'charttime', 'spec_type_desc', 'positiveculture'], axis=1)\\\n",
    ".drop_duplicates()\n",
    "\n",
    "print(str(final_cohort_df[\"SUBJECT_ID\"].nunique()))\n",
    "print(str(final_cohort_df[\"HADM_ID\"].nunique()))\n",
    "\n",
    "final_cohort_df.to_csv(\"cohort_new.csv\", index = False)"
   ]
  }
 ],
 "metadata": {
  "kernelspec": {
   "display_name": "Python 3",
   "language": "python",
   "name": "python3"
  },
  "language_info": {
   "codemirror_mode": {
    "name": "ipython",
    "version": 3
   },
   "file_extension": ".py",
   "mimetype": "text/x-python",
   "name": "python",
   "nbconvert_exporter": "python",
   "pygments_lexer": "ipython3",
   "version": "3.6.5"
  }
 },
 "nbformat": 4,
 "nbformat_minor": 2
}
